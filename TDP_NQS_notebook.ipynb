{
 "cells": [
  {
   "cell_type": "markdown",
   "metadata": {},
   "source": [
    "------------------------------------------------------------\n",
    "### Course Project PCQI: Time-Dependent processes with Neural Quantum States\n",
    "------------------------------------------------------------\n",
    "This notebook is part of the course project for PCQI 2022.\n",
    "By Pim Veefkind (XXXXXXX) & Thomas Rothe (1930443)\n",
    "\n",
    "Set-up of basic NQS framework & implementation of time evolution + evaluation of expectations\n"
   ]
  },
  {
   "cell_type": "markdown",
   "metadata": {},
   "source": [
    "---------------------------------------------------\n",
    "#### Basic set-up of NQS:"
   ]
  },
  {
   "cell_type": "code",
   "execution_count": 58,
   "metadata": {},
   "outputs": [],
   "source": [
    "import numpy as np\n",
    "import pickle\n",
    "from tqdm import tqdm\n",
    "\n",
    "#import scipy.sparse as sp\n",
    "np.random.seed(12)\n",
    "\n",
    "def sigmoid(X):\n",
    "    return 1./(np.exp(X)+1)"
   ]
  },
  {
   "cell_type": "markdown",
   "metadata": {},
   "source": [
    "#### Time-independent RBM NQS:"
   ]
  },
  {
   "cell_type": "code",
   "execution_count": 59,
   "metadata": {},
   "outputs": [],
   "source": [
    "from dataclasses import dataclass, field\n",
    "\n",
    "@dataclass\n",
    "class TFIM:\n",
    "    h: float #Transverse field strength\n",
    "    g: float #Ratio of transverse field / interaction strengths\n",
    "    J: str = field(init=False) #Implied interaction strength\n",
    "    \n",
    "    def __post_init__(self):\n",
    "        self.J = self.h / self.g\n",
    "\n",
    "\n",
    "class NQS_RBM:\n",
    "    \n",
    "    def __init__(self, hamilt, Nv,Nh):\n",
    "        self.hamilt = hamilt\n",
    "        self.Nv = Nv\n",
    "        self.Nh = Nh\n",
    "        self.weights = {}\n",
    "        \n",
    "    \n",
    "        # Service message\n",
    "        print(\"\"\"\\\n",
    "            Neural Quantum State of the transverse field Ising model:\n",
    "            Ising model parameters J, h: %f, %f\n",
    "            Number of visible spins: %i\n",
    "            Number of hidden spins: %i\n",
    "            \"\"\" %(self.hamilt.J,self.hamilt.h, self.Nv,self.Nh))\n",
    "\n",
    "        #\n",
    "        # Initialing visible spins with either 0 or 1\n",
    "        #\n",
    "        self.V = np.random.choice([0,1],self.Nv)\n",
    "        \n",
    "        magnetization = np.sum(self.V)-self.Nv/2\n",
    "\n",
    "        print('Magnetization of Initial state: ', magnetization)\n",
    "\n",
    "        #Initialize weights:\n",
    "        self.initialize_weights()\n",
    "    \n",
    "    def initialize_weights(self):\n",
    "        #\n",
    "        # Initializing weights with real values between -1 and 1\n",
    "        # The system is VERY sensitive to initial conditions. \n",
    "        # E.g. it will not converge if all weights are negative.\n",
    "        #\n",
    "        W0 = (0.2)*(2*np.random.rand(self.Nh,self.Nv)-1. +np.random.rand(self.Nh,self.Nv)*1j)\n",
    "        a0 = (0.1)*(2*np.random.rand(self.Nv)-1. + np.random.rand(self.Nv)*1j)\n",
    "        c0 = (0.1)*(2*np.random.rand(self.Nh)-1. + np.random.rand(self.Nh)*1j)\n",
    " \n",
    "        self.weights['W'] = np.real(W0)\n",
    "        self.weights['a'] = np.real(a0)\n",
    "        self.weights['c'] = np.real(c0)\n",
    "    \n",
    "    def LnRMBWavefunction(self, W,a,c,V):\n",
    "        #\n",
    "        # Golden rule of numerics: avoid exponentials.\n",
    "        # Use ln's instead.\n",
    "        #\n",
    "        Wsummed = 0\n",
    "        LnPreFactor = 0\n",
    "        L = V.shape[0]\n",
    "        for s in range(L):\n",
    "            Wsummed = Wsummed + W[:,s]*V[s]\n",
    "            LnPreFactor = LnPreFactor - a[s]*V[s]\n",
    "        \n",
    "        # Difference between bits 0 and 1 and spins -1 and 1\n",
    "        LnPrePreFactor = np.sum(a)/2 + np.sum(c)/2+np.sum(W)/4\n",
    "        AngleFactor = np.prod(1+np.exp(-c - Wsummed))\n",
    "        LnPsiRMB = LnPrePreFactor + LnPreFactor + np.log(AngleFactor)\n",
    "        return LnPsiRMB\n",
    "    \n",
    "    def MetropolisCycle(self, W,a,c,Vt):\n",
    "        rejectvalue = 0   \n",
    "        LnPsiOld = self.LnRMBWavefunction(W,a,c,Vt)\n",
    "        #\n",
    "        # Flip a random spin\n",
    "        # \n",
    "        L = Vt.shape[0] \n",
    "        site = np.random.randint(L)\n",
    "        Vt[site] = - Vt[site] +1\n",
    "        LnPsiNew = self.LnRMBWavefunction(W,a,c,Vt)\n",
    "        #\n",
    "        acceptanceratio = np.exp(np.real(np.conj(LnPsiNew)+LnPsiNew-np.conj(LnPsiOld)-LnPsiOld))\n",
    "        #if acceptanceratio #MISSING INEQUALITY SIGN# 1:\n",
    "        if acceptanceratio >= 1:\n",
    "            return Vt,rejectvalue\n",
    "        else:\n",
    "            p = np.random.rand()\n",
    "            #if p #MISSING INEQUALITY SIGN# acceptanceratio:\n",
    "            if p >= acceptanceratio:\n",
    "                rejectvalue = 1\n",
    "                Vt[site] = - Vt[site] + 1\n",
    "                \n",
    "            return Vt,rejectvalue\n",
    "\n",
    "    def MetropolisSamp(self, W,a,c,V,k):\n",
    "        #\n",
    "        # Burn-in to get rid of initial condition dependence\n",
    "        #\n",
    "        rejections = 0\n",
    "        rejectvalue = 0\n",
    "        burn_in = 10000\n",
    "\n",
    "        for z in range(burn_in):\n",
    "            Vt = V\n",
    "            V,rejectvalue = self.MetropolisCycle(W,a,c,Vt)\n",
    "            rejections = rejections + rejectvalue\n",
    "        \n",
    "        print('Percentage Rejections in Burn-in: %.2f %%' %(rejections/burn_in*100))\n",
    "        #\n",
    "        #\n",
    "        # We collect the full sequence of spin configurations V\n",
    "        # Together they form a efficient short representation of the full distribution\n",
    "        # \n",
    "        rejections = 0\n",
    "        rejectvalue = 0\n",
    "        Vensemble = np.copy(V)\n",
    "        L = np.shape(V)[0]\n",
    "        for z in range(k):\n",
    "            # initiate sweep, i.e. cycle over # visible spins between appending\n",
    "            for zz in range(L):\n",
    "                V,rejectvalue = self.MetropolisCycle(W,a,c,V)\n",
    "            Vensemble = np.append(Vensemble,V)\n",
    "            rejections = rejections + rejectvalue\n",
    "        \n",
    "        prctrej = 100*rejections/k\n",
    "        #print('Percentage Rejections in Ensemble: %.1f %% (%i/%i)' %(prctrej,rejections,k))\n",
    "        Vensemble_reshape = Vensemble.reshape((k+1,L))\n",
    "        # print(Vensemble_reshape)\n",
    "        return Vensemble_reshape, prctrej \n",
    "    \n",
    "    def Elocal(self, W,a,c,V):\n",
    "        #\n",
    "        # Computing the wavefunction for state V\n",
    "        #\n",
    "        L = V.shape[0]\n",
    "        LnPsi = self.LnRMBWavefunction(W,a,c,V)\n",
    "        LnPsiBar = np.conj(LnPsi)\n",
    "        #\n",
    "        # Computing the energy for state V\n",
    "        # First the Ising term\n",
    "        #\n",
    "        Vshift = np.array([V[(i+1)%L] for i in range(L)])\n",
    "        One = np.ones(L)\n",
    "        ElocalJ = -self.hamilt.J*(np.sum((2*V-One)*(2*Vshift-One)))\n",
    "        #\n",
    "        # Next the magnetic term -B\\sum_i \\sigma^x_i\n",
    "        # Because this is not diagonal on the\n",
    "        # states, we compute \n",
    "        # <V|EB|Psi> instead\n",
    "        # The action of Sigma^x_i is\n",
    "        # to flip the spin on site i:\n",
    "        # i.e. map V[i] to -V[i]+1\n",
    "        #\n",
    "        EBlocalPsi = 0\n",
    "        for i in range(L):\n",
    "            V[i] = -V[i]+1\n",
    "            EBlocalPsi = EBlocalPsi - self.hamilt.h*np.exp(self.LnRMBWavefunction(W,a,c,V)-LnPsi) #Compare flipped with unflipped (sigma_x applied)\n",
    "            V[i] = -V[i]+1\n",
    "        \n",
    "        ElocalPsi = ElocalJ + EBlocalPsi\n",
    "        \n",
    "        return ElocalPsi, LnPsi\n",
    "    \n",
    "    def RMB_inner_product(self, left_prob_amps, right_prob_amps):\n",
    "        v1 = np.mean(left_prob_amps / right_prob_amps)\n",
    "        v2 = np.mean(right_prob_amps / left_prob_amps)\n",
    "        overlap = np.sqrt(np.conj(v1) * v2) \n",
    "        return overlap\n",
    "    \n",
    "    def eval_pauli(self, operator, site, V):\n",
    "        LnPsi = self.LnRMBWavefunction(self.weights['a'], self.weights['c'], self.weights['W'], V)\n",
    "        V = V.copy()\n",
    "        \n",
    "        if operator == \"X\":\n",
    "            temp_a = self.weights['a']\n",
    "            temp_a[site] = -temp_a[site]\n",
    "            temp_W = self.weights['W']\n",
    "            temp_W[site] = -temp_W[:, site] \n",
    "            return np.exp(self.LnRMBWavefunction(temp_a, self.weights['c'], temp_W, V)-LnPsi) #Compare flipped with unflipped (sigma_x applied)\n",
    "        \n",
    "        elif operator == \"Z\":\n",
    "            temp_a = self.weights['a']\n",
    "            temp_a[site] += 1j*np.pi/2\n",
    "            return np.exp(self.LnRMBWavefunction(temp_a, self.weights['c'], self.weights['W'], V)-LnPsi) #Compare flipped with unflipped (sigma_x applied)\n",
    "        \n",
    "        elif operator == \"Y\":\n",
    "            #Apply first X than Z + ignore global phase factor -i\n",
    "            temp_a = self.weights['a']\n",
    "            temp_a[site] = -temp_a[site]\n",
    "            temp_W = self.weights['W']\n",
    "            temp_W[site] = -temp_W[:, site] \n",
    "            \n",
    "            temp_a[site] += 1j*np.pi/2\n",
    "            return np.exp(self.LnRMBWavefunction(temp_a, self.weights['c'], temp_W, V)-LnPsi) #Compare flipped with unflipped (sigma_x applied)\n",
    "\n",
    "        else:\n",
    "            raise ValueError(\"Unknown Pauli operator\")\n",
    "    \n",
    "    def evaluate_exp_vals(self, o_weights, Vensemble, paulis=[[None]]):\n",
    "               # \n",
    "        # <Psi|Operator|Psi> = \\sum_{all S,S'} <Psi|S><S|Operator|S'><S'|Psi>\n",
    "        # is approximated by ensemble average\n",
    "        # <Psi|Operator|Psi> \\simeq \\sum_{Gibbs S,S'} <Psi|S><S|Operator|S'><S'|Psi>\n",
    "        # For L large dim(S)=2^L, whereas we only need a finite number of Gibbs samples\n",
    "        # So this will help greatly at large L\n",
    "        #\n",
    "        #o_weights = old weights\n",
    "        \n",
    "        LenEnsemb = Vensemble.shape[0]\n",
    "        L = self.Nv\n",
    "        H = self.Nh\n",
    "        #\n",
    "        # Initializing for ensemble Exp(ectation)Val(ue)\n",
    "        #\n",
    "        LnNormPsi = 0\n",
    "        EExpVal = 0\n",
    "        ElocalExpVal = 0\n",
    "        ElocalVExpVal = 0\n",
    "        ElocalHExpVal = 0\n",
    "        ElocalWExpVal = 0\n",
    "        derivsExpVal = 0\n",
    "        moment2ExpVal = 0\n",
    "        \n",
    "        ensemble_prob_amps = np.array([])\n",
    "        \n",
    "        pauliExpVals = [[0 for pauli in pauli_str] for pauli_str in paulis ]\n",
    "        \n",
    "        for l in range(LenEnsemb):\n",
    "            V = Vensemble[l]\n",
    "            #\n",
    "            # V now labels a particular state\n",
    "            #\n",
    "            # Computing the energy for state V\n",
    "            #\n",
    "            ElocalPsi, LnPsi = self.Elocal(o_weights['W'],o_weights['a'],o_weights['c'],V)\n",
    "            #\n",
    "            # Next we compute \n",
    "            # <V|EV|V> = Elocal*V\n",
    "            # <V|EH|V> = <Esigmoid(WV+c)> =Elocal*\n",
    "            # <V|EHV|V> = <EVsigmoid(WV+c)>\n",
    "            #\n",
    "            ElocalVPsi = ElocalPsi*V \n",
    "            ElocalHPsi = ElocalPsi*sigmoid(o_weights['c'] + np.matmul(o_weights['W'],V))  #sigmoid = current h vector\n",
    "            ElocalWPsi = ElocalPsi*np.outer(sigmoid(o_weights['c'] + np.matmul(o_weights['W'],V)),V)\n",
    "            # \n",
    "            # Next we compute \n",
    "            # <V>\n",
    "            # <H>\n",
    "            # <HV>\n",
    "            #\n",
    "            derivs = np.concatenate((V,np.real(sigmoid(o_weights['c']+np.matmul(o_weights['W'],V))),np.real(np.outer(sigmoid(o_weights['c']+np.matmul(o_weights['W'],V)),V)).reshape(L*H)))\n",
    "            #\n",
    "            # Matrix of conj.derivs \\times derivs\n",
    "            #\n",
    "            moment2 = np.outer(np.conj(derivs),derivs)\n",
    "            #\n",
    "            # Computing ensemble averages (uniform distrib. over all sampled configs)\n",
    "            #\n",
    "            ElocalExpVal = ElocalExpVal + ElocalPsi/LenEnsemb\n",
    "            ElocalVExpVal = ElocalVExpVal + np.real(ElocalVPsi)/(LenEnsemb)\n",
    "            ElocalHExpVal = ElocalHExpVal + np.real(ElocalHPsi)/(LenEnsemb)\n",
    "            ElocalWExpVal = ElocalWExpVal + np.real(ElocalWPsi)/(LenEnsemb)\n",
    "            derivsExpVal = derivsExpVal + derivs/LenEnsemb\n",
    "            moment2ExpVal = moment2ExpVal + moment2/LenEnsemb\n",
    "            \n",
    "            #Evaluate Ensemble probability amplitudes <s|psi>\n",
    "            np.append(ensemble_prob_amps, LnPsi)\n",
    "            \n",
    "            #Evaluate additional pauli strings:\n",
    "            if paulis[0][0] != None:\n",
    "                for (i_str, pauli_str) in enumerate(paulis):\n",
    "                    for (i, pauli) in enumerate(pauli_str):\n",
    "                        operator, site = pauli[0], int(pauli[1])\n",
    "\n",
    "                        pauli_exp = self.eval_pauli(operator, site, V)\n",
    "                        pauliExpVals[i_str][i] += pauli_exp / (LenEnsemb)\n",
    "        \n",
    "        if paulis[0][0] == None:\n",
    "            return (ElocalExpVal, ElocalVExpVal, ElocalHExpVal, ElocalWExpVal, derivsExpVal, moment2ExpVal, ensemble_prob_amps)\n",
    "        else:\n",
    "            return (ElocalExpVal, ElocalVExpVal, ElocalHExpVal, ElocalWExpVal, derivsExpVal, moment2ExpVal, ensemble_prob_amps), pauliExpVals\n",
    "            \n",
    "    def WeightUpdateSmoothed(self, o_weights,lrate,ep, expectations, regularize=True):   \n",
    " \n",
    "        L = self.Nv\n",
    "        H = self.Nh\n",
    "        \n",
    "        VExpVal = 0\n",
    "        HExpVal = 0\n",
    "        WExpVal = 0\n",
    "        agradientEExpVal = 0\n",
    "        cgradientEExpVal = 0\n",
    "        WgradientEExpVal = 0\n",
    "        \n",
    "        ElocalExpVal, ElocalVExpVal, ElocalHExpVal, ElocalWExpVal, derivsExpVal, moment2ExpVal, ensemble_prob_amps = expectations\n",
    "        #\n",
    "        # Statistical local gradients, ignoring the quantum mechanical term\n",
    "        #\n",
    "        VExpVal = derivsExpVal[:L]\n",
    "        HExpVal = derivsExpVal[L:L+H]\n",
    "        WExpVal = derivsExpVal[L+H:].reshape(H,L)\n",
    "        agradientEStat = - ElocalVExpVal + ElocalExpVal*VExpVal\n",
    "        cgradientEStat = - ElocalHExpVal + ElocalExpVal*HExpVal\n",
    "        WgradientEStat = - ElocalWExpVal + ElocalExpVal*WExpVal\n",
    "        #\n",
    "        # Computing metric on Probability space\n",
    "        #\n",
    "        #   - Cartesian metric as default\n",
    "        #\n",
    "        S_kkCartesian = np.diag(np.ones(L*H+L+H))\n",
    "        #\n",
    "        #   - Sorella version\n",
    "        #\n",
    "        S_kkSorella = moment2ExpVal - np.outer(np.conj(derivsExpVal),derivsExpVal)\n",
    "        \n",
    "        S_kk = S_kkSorella\n",
    "        \n",
    "        if regularize:\n",
    "            #\n",
    "            #   - Regulator necessary to ensure inverse exists\n",
    "            #\n",
    "            lreg = np.max(np.array([100*(0.9)**ep,0.01]))  \n",
    "            S_kkSorellaReg =  lreg * np.diag(np.diag(S_kkCartesian))\n",
    "            #\n",
    "            #S_kk = S_kkCartesian\n",
    "            S_kk = S_kkSorella + S_kkSorellaReg #Sorella = use variance in parameters/their derivates to adjust learning rate individually (per parameter type, per parameter)!\n",
    "   \n",
    "        \n",
    "        agrad = np.copy(agradientEStat)\n",
    "        cgrad = np.copy(cgradientEStat)\n",
    "        Wgrad = np.copy(WgradientEStat)\n",
    "        #\n",
    "        # Print out average length-squared of gradients as diagnostic\n",
    "        # (finding good initial guess of model parameters manually)\n",
    "        #\n",
    "        GradAAbsSq = np.real(np.inner(np.conj(agrad),agrad))/L\n",
    "        GradCAbsSq = np.real(np.inner(np.conj(cgrad),cgrad))/H\n",
    "        GradWAbsSq = np.real(np.sum(np.conj(Wgrad)*Wgrad))/(L*H)\n",
    "        print('\\rGradient absval-squared: a: %.4f, c: %.4f, W: %.4f. ' %(GradAAbsSq,GradCAbsSq,GradWAbsSq), end='')\n",
    "        #\n",
    "        #\n",
    "        Wgradtemp = Wgrad.reshape(L*H)\n",
    "        paras = np.concatenate((o_weights['a'],o_weights['c'],o_weights['W'].reshape(L*H)))\n",
    "        gradE = np.conj(np.concatenate((agrad,cgrad,Wgradtemp)))\n",
    "        #\n",
    "        deltaparas = lrate * np.einsum('ij,j->i',np.linalg.inv(S_kk),gradE) #Learning rate in metric x gradient\n",
    "        paras = paras - deltaparas #Update parameters (collectively in one big array)\n",
    "        print('Average weight update size:', np.average(deltaparas))\n",
    "        #\n",
    "        #\n",
    "        \n",
    "        n_weights = {}\n",
    "        n_weights['a'] = paras[:L]\n",
    "        n_weights['c'] = paras[L:L+H]\n",
    "        n_weights['W'] = paras[L+H:].reshape(H,L)\n",
    "        #\n",
    "        #print('Local Energy: ', ElocalExpVal)\n",
    "        #\n",
    "        return n_weights\n",
    "    \n",
    "    def get_exact_GS(self):\n",
    "        # The transverse field Ising model happens to\n",
    "        # be exactly solvable through other means.\n",
    "        # We secretly know the exact GS energy:\n",
    "        #\n",
    "\n",
    "        free_fermion_modes = np.sqrt(1 + self.hamilt.g**2-2*self.hamilt.g*np.cos(2*np.pi*np.arange(self.Nv)/self.Nv)) \n",
    "        E_exact_per_site = -self.hamilt.J*np.sum(free_fermion_modes)/self.Nv #Number of modes on each site * energy of occupation = interaction energy\n",
    "        return E_exact_per_site\n",
    "        \n",
    "    def get_RBM_GS(self, kContrastDiv, lrate,epochs):\n",
    "        # Service message\n",
    "        print(\"\"\"\\\n",
    "            Performing variational ground state search with:\n",
    "            Monte Carlo sequence size: %i\n",
    "            Learning Rate: %f\n",
    "            Epochs: %i\n",
    "            \"\"\" %(kContrastDiv, lrate, epochs))\n",
    "\n",
    "        #\n",
    "        # Variable Initialization for plotting results\n",
    "        #\n",
    "        Convergence = np.array([[1,1]])\n",
    "        Percentage = np.array([0])\n",
    "        prct = 0\n",
    "        \n",
    "        #\n",
    "        # Learning/Variational Minimization cycle\n",
    "        #\n",
    "        for ep in tqdm(range(epochs)):\n",
    "            #\n",
    "            Vensemble, prct = self.MetropolisSamp(self.weights['W'], self.weights['a'], self.weights['c'], self.V, kContrastDiv) #Get  representative samples\n",
    "            \n",
    "            expectations = self.evaluate_exp_vals(self.weights, Vensemble)\n",
    "            self.weights = self.WeightUpdateSmoothed(self.weights, lrate, ep, expectations, True) #Update paramters by fixed paramter gradients on ensemble\n",
    "            \n",
    "            EExpVal = expectations[0]\n",
    "            EVarPerSite = np.real(EExpVal)/self.Nv\n",
    "            Convergence = np.append(Convergence,np.array([[ep,EVarPerSite]]),axis=0)\n",
    "            Percentage = np.append(Percentage,np.array([prct]),axis=0)\n",
    "            #lrate = lrate * 0.95 \n",
    "            \n",
    "            E_exact_per_site = self.get_exact_GS()\n",
    "            print('\\rEpoch %i/%i: Variational Energy: %f, Exact Energy: %f ' %(ep+1,epochs,EVarPerSite, E_exact_per_site), end='')\n",
    "            if not np.abs(EVarPerSite) < 10e6:\n",
    "                print('\\nNumerical Runaway: discontinuing...')\n",
    "                break\n",
    "            #print('Weights updated: Started learning epoch %i out of %i\\n' %(ep+1,epochs))\n",
    "        \n",
    "        WRBM = np.copy(self.weights['W'])\n",
    "        aRBM = np.copy(self.weights['a'])\n",
    "        cRBM = np.copy(self.weights['c'])\n",
    "        sampler = 'MetroSmoothed'\n",
    "        filename = f'NQSdata_J{self.hamilt.J:01}_h{self.hamilt.h:01}_{sampler}_Cycles{kContrastDiv}_Epochs{epochs}.pickle'\n",
    "        print('\\nFile = ', filename)\n",
    "        results = (Convergence, Percentage, aRBM, cRBM, WRBM, E_exact_per_site)\n",
    "        with open(filename,'wb') as f:\n",
    "            pickle.dump(results,f)\n",
    "            \n",
    "        return results\n",
    "        \n",
    "   "
   ]
  },
  {
   "cell_type": "markdown",
   "metadata": {},
   "source": [
    "#### Time indepdent Plotting routines:"
   ]
  },
  {
   "cell_type": "code",
   "execution_count": 60,
   "metadata": {},
   "outputs": [],
   "source": [
    "import matplotlib.pyplot as plt\n",
    "\n",
    "def plot_time_independent_convergence(Convergence,Percentage, EexactPerSite):\n",
    "    Eexc = EexactPerSite*np.ones(Convergence.shape[0]-1)\n",
    "    fig, ax = plt.subplots()\n",
    "    \n",
    "    ax.plot(Convergence[1:,0],Convergence[1:,1], label=\"Simulated energy per site\")\n",
    "    ax.plot(Convergence[1:,0],Eexc, label=\"Exact energy per site\")\n",
    "    ax2 = ax.twinx()\n",
    "    ax2.plot(Convergence[1:,0],Percentage[1:],color='red',linestyle=':', label=\"Rejection rate\")\n",
    "    ax2.set_ylim(0,100)\n",
    "    \n",
    "    ax.set_title('Convergence')\n",
    "    ax.set_xlabel('Epoch')\n",
    "    ax.set_ylabel(r'${E_{loc}}/{L}$')\n",
    "    ax2.set_ylabel(\"Rejection rate\")\n",
    "    ax.legend()\n",
    "    fig;\n",
    "    "
   ]
  },
  {
   "cell_type": "markdown",
   "metadata": {},
   "source": [
    "##### Running a time-independent example:"
   ]
  },
  {
   "cell_type": "code",
   "execution_count": 61,
   "metadata": {},
   "outputs": [
    {
     "name": "stdout",
     "output_type": "stream",
     "text": [
      "            Neural Quantum State of the transverse field Ising model:\n",
      "            Ising model parameters J, h: 1.000000, 0.500000\n",
      "            Number of visible spins: 10\n",
      "            Number of hidden spins: 40\n",
      "            \n",
      "Magnetization of Initial state:  1.0\n",
      "            Performing variational ground state search with:\n",
      "            Monte Carlo sequence size: 6000\n",
      "            Learning Rate: 0.400000\n",
      "            Epochs: 52\n",
      "            \n"
     ]
    },
    {
     "name": "stderr",
     "output_type": "stream",
     "text": [
      "  0%|          | 0/52 [00:00<?, ?it/s]"
     ]
    },
    {
     "name": "stdout",
     "output_type": "stream",
     "text": [
      "Percentage Rejections in Burn-in: 33.54 %\n"
     ]
    },
    {
     "name": "stderr",
     "output_type": "stream",
     "text": [
      "  2%|▏         | 1/52 [00:09<08:27,  9.95s/it]"
     ]
    },
    {
     "name": "stdout",
     "output_type": "stream",
     "text": [
      "Gradient absval-squared: a: 0.0540, c: 0.0004, W: 0.0145. Average weight update size: 5.732931600093288e-05\n",
      "Epoch 1/52: Variational Energy: -0.426605, Exact Energy: -1.063528 Percentage Rejections in Burn-in: 32.87 %\n"
     ]
    },
    {
     "name": "stderr",
     "output_type": "stream",
     "text": [
      "  4%|▍         | 2/52 [00:19<08:16,  9.92s/it]"
     ]
    },
    {
     "name": "stdout",
     "output_type": "stream",
     "text": [
      "Gradient absval-squared: a: 0.0515, c: 0.0004, W: 0.0138. Average weight update size: 8.238459662546687e-05\n",
      "Epoch 2/52: Variational Energy: -0.448009, Exact Energy: -1.063528 Percentage Rejections in Burn-in: 32.44 %\n"
     ]
    },
    {
     "name": "stderr",
     "output_type": "stream",
     "text": [
      "  6%|▌         | 3/52 [00:29<08:04,  9.89s/it]"
     ]
    },
    {
     "name": "stdout",
     "output_type": "stream",
     "text": [
      "Gradient absval-squared: a: 0.0510, c: 0.0004, W: 0.0137. Average weight update size: 4.1332845932508724e-05\n",
      "Epoch 3/52: Variational Energy: -0.441491, Exact Energy: -1.063528 Percentage Rejections in Burn-in: 31.74 %\n"
     ]
    },
    {
     "name": "stderr",
     "output_type": "stream",
     "text": [
      "  8%|▊         | 4/52 [00:39<07:56,  9.92s/it]"
     ]
    },
    {
     "name": "stdout",
     "output_type": "stream",
     "text": [
      "Gradient absval-squared: a: 0.0466, c: 0.0003, W: 0.0124. Average weight update size: 9.238865641725658e-05\n",
      "Epoch 4/52: Variational Energy: -0.448000, Exact Energy: -1.063528 Percentage Rejections in Burn-in: 31.10 %\n"
     ]
    },
    {
     "name": "stderr",
     "output_type": "stream",
     "text": [
      " 10%|▉         | 5/52 [00:49<07:45,  9.91s/it]"
     ]
    },
    {
     "name": "stdout",
     "output_type": "stream",
     "text": [
      "Gradient absval-squared: a: 0.0463, c: 0.0003, W: 0.0124. Average weight update size: 0.00011797626963422861\n",
      "Epoch 5/52: Variational Energy: -0.457050, Exact Energy: -1.063528 Percentage Rejections in Burn-in: 31.01 %\n"
     ]
    },
    {
     "name": "stderr",
     "output_type": "stream",
     "text": [
      " 12%|█▏        | 6/52 [00:59<07:36,  9.93s/it]"
     ]
    },
    {
     "name": "stdout",
     "output_type": "stream",
     "text": [
      "Gradient absval-squared: a: 0.0396, c: 0.0003, W: 0.0106. Average weight update size: 0.00015011019858448806\n",
      "Epoch 6/52: Variational Energy: -0.456143, Exact Energy: -1.063528 Percentage Rejections in Burn-in: 29.17 %\n"
     ]
    },
    {
     "name": "stderr",
     "output_type": "stream",
     "text": [
      " 13%|█▎        | 7/52 [01:09<07:26,  9.92s/it]"
     ]
    },
    {
     "name": "stdout",
     "output_type": "stream",
     "text": [
      "Gradient absval-squared: a: 0.0385, c: 0.0003, W: 0.0103. Average weight update size: 0.00014670186672208652\n",
      "Epoch 7/52: Variational Energy: -0.469255, Exact Energy: -1.063528 Percentage Rejections in Burn-in: 27.99 %\n"
     ]
    },
    {
     "name": "stderr",
     "output_type": "stream",
     "text": [
      " 15%|█▌        | 8/52 [01:19<07:16,  9.92s/it]"
     ]
    },
    {
     "name": "stdout",
     "output_type": "stream",
     "text": [
      "Gradient absval-squared: a: 0.0368, c: 0.0003, W: 0.0098. Average weight update size: 0.00018260686806173293\n",
      "Epoch 8/52: Variational Energy: -0.463520, Exact Energy: -1.063528 Percentage Rejections in Burn-in: 27.73 %\n"
     ]
    },
    {
     "name": "stderr",
     "output_type": "stream",
     "text": [
      " 17%|█▋        | 9/52 [01:29<07:07,  9.93s/it]"
     ]
    },
    {
     "name": "stdout",
     "output_type": "stream",
     "text": [
      "Gradient absval-squared: a: 0.0355, c: 0.0003, W: 0.0095. Average weight update size: 0.0002795953707999677\n",
      "Epoch 9/52: Variational Energy: -0.474635, Exact Energy: -1.063528 Percentage Rejections in Burn-in: 26.88 %\n"
     ]
    },
    {
     "name": "stderr",
     "output_type": "stream",
     "text": [
      " 19%|█▉        | 10/52 [01:39<06:56,  9.92s/it]"
     ]
    },
    {
     "name": "stdout",
     "output_type": "stream",
     "text": [
      "Gradient absval-squared: a: 0.0284, c: 0.0002, W: 0.0076. Average weight update size: 0.00028292351505753387\n",
      "Epoch 10/52: Variational Energy: -0.482178, Exact Energy: -1.063528 Percentage Rejections in Burn-in: 26.55 %\n"
     ]
    },
    {
     "name": "stderr",
     "output_type": "stream",
     "text": [
      " 21%|██        | 11/52 [01:49<06:47,  9.93s/it]"
     ]
    },
    {
     "name": "stdout",
     "output_type": "stream",
     "text": [
      "Gradient absval-squared: a: 0.0277, c: 0.0002, W: 0.0075. Average weight update size: 0.00028919579467789013\n",
      "Epoch 11/52: Variational Energy: -0.483517, Exact Energy: -1.063528 Percentage Rejections in Burn-in: 26.06 %\n"
     ]
    },
    {
     "name": "stderr",
     "output_type": "stream",
     "text": [
      " 23%|██▎       | 12/52 [01:59<06:36,  9.92s/it]"
     ]
    },
    {
     "name": "stdout",
     "output_type": "stream",
     "text": [
      "Gradient absval-squared: a: 0.0278, c: 0.0002, W: 0.0075. Average weight update size: 0.00040983387391017737\n",
      "Epoch 12/52: Variational Energy: -0.498244, Exact Energy: -1.063528 Percentage Rejections in Burn-in: 25.71 %\n"
     ]
    },
    {
     "name": "stderr",
     "output_type": "stream",
     "text": [
      " 25%|██▌       | 13/52 [02:08<06:26,  9.92s/it]"
     ]
    },
    {
     "name": "stdout",
     "output_type": "stream",
     "text": [
      "Gradient absval-squared: a: 0.0231, c: 0.0002, W: 0.0063. Average weight update size: 0.0004880306761864234\n",
      "Epoch 13/52: Variational Energy: -0.500308, Exact Energy: -1.063528 Percentage Rejections in Burn-in: 26.60 %\n"
     ]
    },
    {
     "name": "stderr",
     "output_type": "stream",
     "text": [
      " 27%|██▋       | 14/52 [02:18<06:17,  9.93s/it]"
     ]
    },
    {
     "name": "stdout",
     "output_type": "stream",
     "text": [
      "Gradient absval-squared: a: 0.0226, c: 0.0002, W: 0.0063. Average weight update size: 0.0006217582870134453\n",
      "Epoch 14/52: Variational Energy: -0.509715, Exact Energy: -1.063528 Percentage Rejections in Burn-in: 26.46 %\n"
     ]
    },
    {
     "name": "stderr",
     "output_type": "stream",
     "text": [
      " 27%|██▋       | 14/52 [02:25<06:35, 10.42s/it]\n"
     ]
    },
    {
     "ename": "KeyboardInterrupt",
     "evalue": "",
     "output_type": "error",
     "traceback": [
      "\u001b[0;31m---------------------------------------------------------------------------\u001b[0m",
      "\u001b[0;31mKeyboardInterrupt\u001b[0m                         Traceback (most recent call last)",
      "\u001b[0;32m/tmp/ipykernel_12421/1053074235.py\u001b[0m in \u001b[0;36m<module>\u001b[0;34m\u001b[0m\n\u001b[1;32m      5\u001b[0m                     Nh =40)\n\u001b[1;32m      6\u001b[0m \u001b[0;34m\u001b[0m\u001b[0m\n\u001b[0;32m----> 7\u001b[0;31m nqs_results = nqs_model.get_RBM_GS(kContrastDiv = 6000,\n\u001b[0m\u001b[1;32m      8\u001b[0m                               \u001b[0mlrate\u001b[0m \u001b[0;34m=\u001b[0m \u001b[0;36m0.4\u001b[0m\u001b[0;34m,\u001b[0m\u001b[0;34m\u001b[0m\u001b[0;34m\u001b[0m\u001b[0m\n\u001b[1;32m      9\u001b[0m                               epochs = 52)\n",
      "\u001b[0;32m/tmp/ipykernel_12421/801129352.py\u001b[0m in \u001b[0;36mget_RBM_GS\u001b[0;34m(self, kContrastDiv, lrate, epochs)\u001b[0m\n\u001b[1;32m    395\u001b[0m             \u001b[0mVensemble\u001b[0m\u001b[0;34m,\u001b[0m \u001b[0mprct\u001b[0m \u001b[0;34m=\u001b[0m \u001b[0mself\u001b[0m\u001b[0;34m.\u001b[0m\u001b[0mMetropolisSamp\u001b[0m\u001b[0;34m(\u001b[0m\u001b[0mself\u001b[0m\u001b[0;34m.\u001b[0m\u001b[0mweights\u001b[0m\u001b[0;34m[\u001b[0m\u001b[0;34m'W'\u001b[0m\u001b[0;34m]\u001b[0m\u001b[0;34m,\u001b[0m \u001b[0mself\u001b[0m\u001b[0;34m.\u001b[0m\u001b[0mweights\u001b[0m\u001b[0;34m[\u001b[0m\u001b[0;34m'a'\u001b[0m\u001b[0;34m]\u001b[0m\u001b[0;34m,\u001b[0m \u001b[0mself\u001b[0m\u001b[0;34m.\u001b[0m\u001b[0mweights\u001b[0m\u001b[0;34m[\u001b[0m\u001b[0;34m'c'\u001b[0m\u001b[0;34m]\u001b[0m\u001b[0;34m,\u001b[0m \u001b[0mself\u001b[0m\u001b[0;34m.\u001b[0m\u001b[0mV\u001b[0m\u001b[0;34m,\u001b[0m \u001b[0mkContrastDiv\u001b[0m\u001b[0;34m)\u001b[0m \u001b[0;31m#Get  representative samples\u001b[0m\u001b[0;34m\u001b[0m\u001b[0;34m\u001b[0m\u001b[0m\n\u001b[1;32m    396\u001b[0m \u001b[0;34m\u001b[0m\u001b[0m\n\u001b[0;32m--> 397\u001b[0;31m             \u001b[0mexpectations\u001b[0m \u001b[0;34m=\u001b[0m \u001b[0mself\u001b[0m\u001b[0;34m.\u001b[0m\u001b[0mevaluate_exp_vals\u001b[0m\u001b[0;34m(\u001b[0m\u001b[0mself\u001b[0m\u001b[0;34m.\u001b[0m\u001b[0mweights\u001b[0m\u001b[0;34m,\u001b[0m \u001b[0mVensemble\u001b[0m\u001b[0;34m)\u001b[0m\u001b[0;34m\u001b[0m\u001b[0;34m\u001b[0m\u001b[0m\n\u001b[0m\u001b[1;32m    398\u001b[0m             \u001b[0mself\u001b[0m\u001b[0;34m.\u001b[0m\u001b[0mweights\u001b[0m \u001b[0;34m=\u001b[0m \u001b[0mself\u001b[0m\u001b[0;34m.\u001b[0m\u001b[0mWeightUpdateSmoothed\u001b[0m\u001b[0;34m(\u001b[0m\u001b[0mself\u001b[0m\u001b[0;34m.\u001b[0m\u001b[0mweights\u001b[0m\u001b[0;34m,\u001b[0m \u001b[0mlrate\u001b[0m\u001b[0;34m,\u001b[0m \u001b[0mep\u001b[0m\u001b[0;34m,\u001b[0m \u001b[0mexpectations\u001b[0m\u001b[0;34m,\u001b[0m \u001b[0;32mTrue\u001b[0m\u001b[0;34m)\u001b[0m \u001b[0;31m#Update paramters by fixed paramter gradients on ensemble\u001b[0m\u001b[0;34m\u001b[0m\u001b[0;34m\u001b[0m\u001b[0m\n\u001b[1;32m    399\u001b[0m \u001b[0;34m\u001b[0m\u001b[0m\n",
      "\u001b[0;32m/tmp/ipykernel_12421/801129352.py\u001b[0m in \u001b[0;36mevaluate_exp_vals\u001b[0;34m(self, o_weights, Vensemble, paulis)\u001b[0m\n\u001b[1;32m    236\u001b[0m             \u001b[0;31m# Computing the energy for state V\u001b[0m\u001b[0;34m\u001b[0m\u001b[0;34m\u001b[0m\u001b[0m\n\u001b[1;32m    237\u001b[0m             \u001b[0;31m#\u001b[0m\u001b[0;34m\u001b[0m\u001b[0;34m\u001b[0m\u001b[0m\n\u001b[0;32m--> 238\u001b[0;31m             \u001b[0mElocalPsi\u001b[0m\u001b[0;34m,\u001b[0m \u001b[0mLnPsi\u001b[0m \u001b[0;34m=\u001b[0m \u001b[0mself\u001b[0m\u001b[0;34m.\u001b[0m\u001b[0mElocal\u001b[0m\u001b[0;34m(\u001b[0m\u001b[0mo_weights\u001b[0m\u001b[0;34m[\u001b[0m\u001b[0;34m'W'\u001b[0m\u001b[0;34m]\u001b[0m\u001b[0;34m,\u001b[0m\u001b[0mo_weights\u001b[0m\u001b[0;34m[\u001b[0m\u001b[0;34m'a'\u001b[0m\u001b[0;34m]\u001b[0m\u001b[0;34m,\u001b[0m\u001b[0mo_weights\u001b[0m\u001b[0;34m[\u001b[0m\u001b[0;34m'c'\u001b[0m\u001b[0;34m]\u001b[0m\u001b[0;34m,\u001b[0m\u001b[0mV\u001b[0m\u001b[0;34m)\u001b[0m\u001b[0;34m\u001b[0m\u001b[0;34m\u001b[0m\u001b[0m\n\u001b[0m\u001b[1;32m    239\u001b[0m             \u001b[0;31m#\u001b[0m\u001b[0;34m\u001b[0m\u001b[0;34m\u001b[0m\u001b[0m\n\u001b[1;32m    240\u001b[0m             \u001b[0;31m# Next we compute\u001b[0m\u001b[0;34m\u001b[0m\u001b[0;34m\u001b[0m\u001b[0m\n",
      "\u001b[0;32m/tmp/ipykernel_12421/801129352.py\u001b[0m in \u001b[0;36mElocal\u001b[0;34m(self, W, a, c, V)\u001b[0m\n\u001b[1;32m    158\u001b[0m         \u001b[0;32mfor\u001b[0m \u001b[0mi\u001b[0m \u001b[0;32min\u001b[0m \u001b[0mrange\u001b[0m\u001b[0;34m(\u001b[0m\u001b[0mL\u001b[0m\u001b[0;34m)\u001b[0m\u001b[0;34m:\u001b[0m\u001b[0;34m\u001b[0m\u001b[0;34m\u001b[0m\u001b[0m\n\u001b[1;32m    159\u001b[0m             \u001b[0mV\u001b[0m\u001b[0;34m[\u001b[0m\u001b[0mi\u001b[0m\u001b[0;34m]\u001b[0m \u001b[0;34m=\u001b[0m \u001b[0;34m-\u001b[0m\u001b[0mV\u001b[0m\u001b[0;34m[\u001b[0m\u001b[0mi\u001b[0m\u001b[0;34m]\u001b[0m\u001b[0;34m+\u001b[0m\u001b[0;36m1\u001b[0m\u001b[0;34m\u001b[0m\u001b[0;34m\u001b[0m\u001b[0m\n\u001b[0;32m--> 160\u001b[0;31m             \u001b[0mEBlocalPsi\u001b[0m \u001b[0;34m=\u001b[0m \u001b[0mEBlocalPsi\u001b[0m \u001b[0;34m-\u001b[0m \u001b[0mself\u001b[0m\u001b[0;34m.\u001b[0m\u001b[0mhamilt\u001b[0m\u001b[0;34m.\u001b[0m\u001b[0mh\u001b[0m\u001b[0;34m*\u001b[0m\u001b[0mnp\u001b[0m\u001b[0;34m.\u001b[0m\u001b[0mexp\u001b[0m\u001b[0;34m(\u001b[0m\u001b[0mself\u001b[0m\u001b[0;34m.\u001b[0m\u001b[0mLnRMBWavefunction\u001b[0m\u001b[0;34m(\u001b[0m\u001b[0mW\u001b[0m\u001b[0;34m,\u001b[0m\u001b[0ma\u001b[0m\u001b[0;34m,\u001b[0m\u001b[0mc\u001b[0m\u001b[0;34m,\u001b[0m\u001b[0mV\u001b[0m\u001b[0;34m)\u001b[0m\u001b[0;34m-\u001b[0m\u001b[0mLnPsi\u001b[0m\u001b[0;34m)\u001b[0m \u001b[0;31m#Compare flipped with unflipped (sigma_x applied)\u001b[0m\u001b[0;34m\u001b[0m\u001b[0;34m\u001b[0m\u001b[0m\n\u001b[0m\u001b[1;32m    161\u001b[0m             \u001b[0mV\u001b[0m\u001b[0;34m[\u001b[0m\u001b[0mi\u001b[0m\u001b[0;34m]\u001b[0m \u001b[0;34m=\u001b[0m \u001b[0;34m-\u001b[0m\u001b[0mV\u001b[0m\u001b[0;34m[\u001b[0m\u001b[0mi\u001b[0m\u001b[0;34m]\u001b[0m\u001b[0;34m+\u001b[0m\u001b[0;36m1\u001b[0m\u001b[0;34m\u001b[0m\u001b[0;34m\u001b[0m\u001b[0m\n\u001b[1;32m    162\u001b[0m \u001b[0;34m\u001b[0m\u001b[0m\n",
      "\u001b[0;32m/tmp/ipykernel_12421/801129352.py\u001b[0m in \u001b[0;36mLnRMBWavefunction\u001b[0;34m(self, W, a, c, V)\u001b[0m\n\u001b[1;32m     64\u001b[0m         \u001b[0;32mfor\u001b[0m \u001b[0ms\u001b[0m \u001b[0;32min\u001b[0m \u001b[0mrange\u001b[0m\u001b[0;34m(\u001b[0m\u001b[0mL\u001b[0m\u001b[0;34m)\u001b[0m\u001b[0;34m:\u001b[0m\u001b[0;34m\u001b[0m\u001b[0;34m\u001b[0m\u001b[0m\n\u001b[1;32m     65\u001b[0m             \u001b[0mWsummed\u001b[0m \u001b[0;34m=\u001b[0m \u001b[0mWsummed\u001b[0m \u001b[0;34m+\u001b[0m \u001b[0mW\u001b[0m\u001b[0;34m[\u001b[0m\u001b[0;34m:\u001b[0m\u001b[0;34m,\u001b[0m\u001b[0ms\u001b[0m\u001b[0;34m]\u001b[0m\u001b[0;34m*\u001b[0m\u001b[0mV\u001b[0m\u001b[0;34m[\u001b[0m\u001b[0ms\u001b[0m\u001b[0;34m]\u001b[0m\u001b[0;34m\u001b[0m\u001b[0;34m\u001b[0m\u001b[0m\n\u001b[0;32m---> 66\u001b[0;31m             \u001b[0mLnPreFactor\u001b[0m \u001b[0;34m=\u001b[0m \u001b[0mLnPreFactor\u001b[0m \u001b[0;34m-\u001b[0m \u001b[0ma\u001b[0m\u001b[0;34m[\u001b[0m\u001b[0ms\u001b[0m\u001b[0;34m]\u001b[0m\u001b[0;34m*\u001b[0m\u001b[0mV\u001b[0m\u001b[0;34m[\u001b[0m\u001b[0ms\u001b[0m\u001b[0;34m]\u001b[0m\u001b[0;34m\u001b[0m\u001b[0;34m\u001b[0m\u001b[0m\n\u001b[0m\u001b[1;32m     67\u001b[0m \u001b[0;34m\u001b[0m\u001b[0m\n\u001b[1;32m     68\u001b[0m         \u001b[0;31m# Difference between bits 0 and 1 and spins -1 and 1\u001b[0m\u001b[0;34m\u001b[0m\u001b[0;34m\u001b[0m\u001b[0m\n",
      "\u001b[0;31mKeyboardInterrupt\u001b[0m: "
     ]
    }
   ],
   "source": [
    "hamilt = TFIM(h=1/2, g=1/2)\n",
    "\n",
    "nqs_model = NQS_RBM(hamilt = hamilt,\n",
    "                    Nv = 10,\n",
    "                    Nh =40)\n",
    "\n",
    "nqs_results = nqs_model.get_RBM_GS(kContrastDiv = 6000,\n",
    "                              lrate = 0.4,\n",
    "                              epochs = 52)\n",
    "\n",
    "Convergence,Percentage, aRBM, cRBM, WRBM, EexactPerSite = nqs_results\n",
    "\n",
    "#\n",
    "# Displaying analytics\n",
    "#\n",
    "plot_time_independent_convergence(Convergence, Percentage, EexactPerSite)"
   ]
  },
  {
   "cell_type": "markdown",
   "metadata": {},
   "source": [
    "##### Introducing Time dependence into the model:"
   ]
  },
  {
   "cell_type": "code",
   "execution_count": 64,
   "metadata": {},
   "outputs": [],
   "source": [
    "class TD_NQS_RBM(NQS_RBM):\n",
    "    '''\n",
    "    Defines a Time Dependent (TD) simulation of an NQS RBM model\n",
    "    '''\n",
    "    def __init__(self, init_H, Nv,Nh, init_mode=\"ground_state\", init_state_params={\"kContrastDiv\": 6000, \"lrate\": 0.4, \"epochs\": 52}):\n",
    "        \n",
    "        #Initialize a static NQS model\n",
    "        super().__init__(init_H, Nv,Nh) \n",
    "        \n",
    "        #Prepare the initial state of the system\n",
    "        if init_mode==\"ground_state\":\n",
    "            #\n",
    "            #Prepare initial state in ground state of initial hamiltonian\n",
    "            #\n",
    "            self.get_RBM_GS(**init_state_params)\n",
    "        else:\n",
    "            raise ValueError(\"Unknown state initialization mode\")\n",
    "        \n",
    "        \n",
    "    def evolute_quench(self, target_H, delta_t,end_of_time, time_lrate, kContrastDiv):\n",
    "        \"\"\"\n",
    "        Performing Quantum Quench on RBM NQS using Stochastic Reconfiguration\n",
    "        \"\"\"\n",
    "        \n",
    "        #Make a quench by changing to target hamiltonian\n",
    "        self.hamilt = target_H\n",
    "        \n",
    "        #Initialize outputs\n",
    "        energies = np.array([])\n",
    "        \n",
    "        reject_percent = np.array([0])\n",
    "        evol_phases = np.array([]) #Acquinted phases through evolution \n",
    "        \n",
    "        old_ensemble_prob_amps = np.array([])\n",
    "        \n",
    "        #Run time\n",
    "        for t in tqdm(range(0, end_of_time)):\n",
    "            \n",
    "            #Sample ensemble of configurations for expectation evaluation and evolution\n",
    "            Vensemble, prct = self.MetropolisSamp(self.weights['W'], self.weights['a'], self.weights['c'], self.V, kContrastDiv)\n",
    "            \n",
    "            #Evaluate all expectations at once from ensemble:\n",
    "            required_paulis = [[f\"X{s}\" for s in range(self.Nv)],[\"X0\", \"Y1\"], [\"Y0\", \"X1\"]]\n",
    "            expectations, pauliExpVals = self.evaluate_exp_vals(self.weights, Vensemble, paulis=required_paulis)\n",
    "            EExpVal = expectations[0]\n",
    "            \n",
    "            #Get Updated weights for next timestep: |psi(t + delta_t)>\n",
    "            im_time_lrate = -1j*time_lrate #Imaginary time learning rate for evolution\n",
    "            new_weights = self.WeightUpdateSmoothed(self.weights, im_time_lrate, t, expectations, False) #Note: disabled regularization of covar-matrix.\n",
    "            \n",
    "            #Get acquinted phase change in evolution:\n",
    "            new_ensemble_prob_amps = expectations[-1]\n",
    "            overlap_psi_t_psi_t_dt = self.RMB_inner_product(old_ensemble_prob_amps, new_ensemble_prob_amps)\n",
    "            evol_phase = np.angle(overlap_psi_t_psi_t_dt / ((1 - 1j*EExpVal)*delta_t )) / delta_t\n",
    "            evol_phases = np.append(evol_phases, evol_phase)\n",
    "            \n",
    "            #Store the new weights and old probability amplitudes for next timestep\n",
    "            self.weights = new_weights\n",
    "            old_ensemble_prob_amps = new_ensemble_prob_amps.copy()\n",
    "            \n",
    "            #Store outputs:\n",
    "            E_per_site = np.real(EExpVal)/self.Nv\n",
    "            energies = np.append(energies, E_per_site)\n",
    "            reject_percent = np.append(reject_percent, prct)\n",
    "\n",
    "        #--------Store and return results\n",
    "        #--------Calculate other fun quantities with the obtained expectation values\n",
    "        #--------Apply phase corrections with evol_phases from time evolution where needed (for assymetric overlap of states)\n"
   ]
  },
  {
   "cell_type": "markdown",
   "metadata": {},
   "source": [
    "##### Time dependent plotting routines:"
   ]
  },
  {
   "cell_type": "code",
   "execution_count": null,
   "metadata": {},
   "outputs": [],
   "source": [
    "def plot_time_dependent_exp_vals():\n",
    "    pass\n",
    "    "
   ]
  },
  {
   "cell_type": "markdown",
   "metadata": {},
   "source": [
    "##### Running an time-dependent example:"
   ]
  },
  {
   "cell_type": "code",
   "execution_count": 65,
   "metadata": {},
   "outputs": [
    {
     "name": "stdout",
     "output_type": "stream",
     "text": [
      "            Neural Quantum State of the transverse field Ising model:\n",
      "            Ising model parameters J, h: 0.500000, 0.500000\n",
      "            Number of visible spins: 10\n",
      "            Number of hidden spins: 40\n",
      "            \n",
      "Magnetization of Initial state:  0.0\n",
      "            Performing variational ground state search with:\n",
      "            Monte Carlo sequence size: 6000\n",
      "            Learning Rate: 0.400000\n",
      "            Epochs: 52\n",
      "            \n"
     ]
    },
    {
     "name": "stderr",
     "output_type": "stream",
     "text": [
      "  0%|          | 0/52 [00:00<?, ?it/s]"
     ]
    },
    {
     "name": "stdout",
     "output_type": "stream",
     "text": [
      "Percentage Rejections in Burn-in: 27.66 %\n"
     ]
    },
    {
     "name": "stderr",
     "output_type": "stream",
     "text": [
      "  0%|          | 0/52 [00:08<?, ?it/s]\n"
     ]
    },
    {
     "ename": "KeyboardInterrupt",
     "evalue": "",
     "output_type": "error",
     "traceback": [
      "\u001b[0;31m---------------------------------------------------------------------------\u001b[0m",
      "\u001b[0;31mKeyboardInterrupt\u001b[0m                         Traceback (most recent call last)",
      "\u001b[0;32m/tmp/ipykernel_12421/3265205084.py\u001b[0m in \u001b[0;36m<module>\u001b[0;34m\u001b[0m\n\u001b[1;32m      3\u001b[0m \u001b[0;34m\u001b[0m\u001b[0m\n\u001b[1;32m      4\u001b[0m \u001b[0;34m\u001b[0m\u001b[0m\n\u001b[0;32m----> 5\u001b[0;31m td_nqs_model = TD_NQS_RBM(init_H = init_H,\n\u001b[0m\u001b[1;32m      6\u001b[0m                             \u001b[0mNv\u001b[0m \u001b[0;34m=\u001b[0m \u001b[0;36m10\u001b[0m\u001b[0;34m,\u001b[0m\u001b[0;34m\u001b[0m\u001b[0;34m\u001b[0m\u001b[0m\n\u001b[1;32m      7\u001b[0m                             \u001b[0mNh\u001b[0m \u001b[0;34m=\u001b[0m \u001b[0;36m40\u001b[0m\u001b[0;34m,\u001b[0m\u001b[0;34m\u001b[0m\u001b[0;34m\u001b[0m\u001b[0m\n",
      "\u001b[0;32m/tmp/ipykernel_12421/1604959187.py\u001b[0m in \u001b[0;36m__init__\u001b[0;34m(self, init_H, Nv, Nh, init_mode, init_state_params)\u001b[0m\n\u001b[1;32m     13\u001b[0m             \u001b[0;31m#Prepare initial state in ground state of initial hamiltonian\u001b[0m\u001b[0;34m\u001b[0m\u001b[0;34m\u001b[0m\u001b[0m\n\u001b[1;32m     14\u001b[0m             \u001b[0;31m#\u001b[0m\u001b[0;34m\u001b[0m\u001b[0;34m\u001b[0m\u001b[0m\n\u001b[0;32m---> 15\u001b[0;31m             \u001b[0mself\u001b[0m\u001b[0;34m.\u001b[0m\u001b[0mget_RBM_GS\u001b[0m\u001b[0;34m(\u001b[0m\u001b[0;34m**\u001b[0m\u001b[0minit_state_params\u001b[0m\u001b[0;34m)\u001b[0m\u001b[0;34m\u001b[0m\u001b[0;34m\u001b[0m\u001b[0m\n\u001b[0m\u001b[1;32m     16\u001b[0m         \u001b[0;32melse\u001b[0m\u001b[0;34m:\u001b[0m\u001b[0;34m\u001b[0m\u001b[0;34m\u001b[0m\u001b[0m\n\u001b[1;32m     17\u001b[0m             \u001b[0;32mraise\u001b[0m \u001b[0mValueError\u001b[0m\u001b[0;34m(\u001b[0m\u001b[0;34m\"Unknown state initialization mode\"\u001b[0m\u001b[0;34m)\u001b[0m\u001b[0;34m\u001b[0m\u001b[0;34m\u001b[0m\u001b[0m\n",
      "\u001b[0;32m/tmp/ipykernel_12421/801129352.py\u001b[0m in \u001b[0;36mget_RBM_GS\u001b[0;34m(self, kContrastDiv, lrate, epochs)\u001b[0m\n\u001b[1;32m    395\u001b[0m             \u001b[0mVensemble\u001b[0m\u001b[0;34m,\u001b[0m \u001b[0mprct\u001b[0m \u001b[0;34m=\u001b[0m \u001b[0mself\u001b[0m\u001b[0;34m.\u001b[0m\u001b[0mMetropolisSamp\u001b[0m\u001b[0;34m(\u001b[0m\u001b[0mself\u001b[0m\u001b[0;34m.\u001b[0m\u001b[0mweights\u001b[0m\u001b[0;34m[\u001b[0m\u001b[0;34m'W'\u001b[0m\u001b[0;34m]\u001b[0m\u001b[0;34m,\u001b[0m \u001b[0mself\u001b[0m\u001b[0;34m.\u001b[0m\u001b[0mweights\u001b[0m\u001b[0;34m[\u001b[0m\u001b[0;34m'a'\u001b[0m\u001b[0;34m]\u001b[0m\u001b[0;34m,\u001b[0m \u001b[0mself\u001b[0m\u001b[0;34m.\u001b[0m\u001b[0mweights\u001b[0m\u001b[0;34m[\u001b[0m\u001b[0;34m'c'\u001b[0m\u001b[0;34m]\u001b[0m\u001b[0;34m,\u001b[0m \u001b[0mself\u001b[0m\u001b[0;34m.\u001b[0m\u001b[0mV\u001b[0m\u001b[0;34m,\u001b[0m \u001b[0mkContrastDiv\u001b[0m\u001b[0;34m)\u001b[0m \u001b[0;31m#Get  representative samples\u001b[0m\u001b[0;34m\u001b[0m\u001b[0;34m\u001b[0m\u001b[0m\n\u001b[1;32m    396\u001b[0m \u001b[0;34m\u001b[0m\u001b[0m\n\u001b[0;32m--> 397\u001b[0;31m             \u001b[0mexpectations\u001b[0m \u001b[0;34m=\u001b[0m \u001b[0mself\u001b[0m\u001b[0;34m.\u001b[0m\u001b[0mevaluate_exp_vals\u001b[0m\u001b[0;34m(\u001b[0m\u001b[0mself\u001b[0m\u001b[0;34m.\u001b[0m\u001b[0mweights\u001b[0m\u001b[0;34m,\u001b[0m \u001b[0mVensemble\u001b[0m\u001b[0;34m)\u001b[0m\u001b[0;34m\u001b[0m\u001b[0;34m\u001b[0m\u001b[0m\n\u001b[0m\u001b[1;32m    398\u001b[0m             \u001b[0mself\u001b[0m\u001b[0;34m.\u001b[0m\u001b[0mweights\u001b[0m \u001b[0;34m=\u001b[0m \u001b[0mself\u001b[0m\u001b[0;34m.\u001b[0m\u001b[0mWeightUpdateSmoothed\u001b[0m\u001b[0;34m(\u001b[0m\u001b[0mself\u001b[0m\u001b[0;34m.\u001b[0m\u001b[0mweights\u001b[0m\u001b[0;34m,\u001b[0m \u001b[0mlrate\u001b[0m\u001b[0;34m,\u001b[0m \u001b[0mep\u001b[0m\u001b[0;34m,\u001b[0m \u001b[0mexpectations\u001b[0m\u001b[0;34m,\u001b[0m \u001b[0;32mTrue\u001b[0m\u001b[0;34m)\u001b[0m \u001b[0;31m#Update paramters by fixed paramter gradients on ensemble\u001b[0m\u001b[0;34m\u001b[0m\u001b[0;34m\u001b[0m\u001b[0m\n\u001b[1;32m    399\u001b[0m \u001b[0;34m\u001b[0m\u001b[0m\n",
      "\u001b[0;32m/tmp/ipykernel_12421/801129352.py\u001b[0m in \u001b[0;36mevaluate_exp_vals\u001b[0;34m(self, o_weights, Vensemble, paulis)\u001b[0m\n\u001b[1;32m    236\u001b[0m             \u001b[0;31m# Computing the energy for state V\u001b[0m\u001b[0;34m\u001b[0m\u001b[0;34m\u001b[0m\u001b[0m\n\u001b[1;32m    237\u001b[0m             \u001b[0;31m#\u001b[0m\u001b[0;34m\u001b[0m\u001b[0;34m\u001b[0m\u001b[0m\n\u001b[0;32m--> 238\u001b[0;31m             \u001b[0mElocalPsi\u001b[0m\u001b[0;34m,\u001b[0m \u001b[0mLnPsi\u001b[0m \u001b[0;34m=\u001b[0m \u001b[0mself\u001b[0m\u001b[0;34m.\u001b[0m\u001b[0mElocal\u001b[0m\u001b[0;34m(\u001b[0m\u001b[0mo_weights\u001b[0m\u001b[0;34m[\u001b[0m\u001b[0;34m'W'\u001b[0m\u001b[0;34m]\u001b[0m\u001b[0;34m,\u001b[0m\u001b[0mo_weights\u001b[0m\u001b[0;34m[\u001b[0m\u001b[0;34m'a'\u001b[0m\u001b[0;34m]\u001b[0m\u001b[0;34m,\u001b[0m\u001b[0mo_weights\u001b[0m\u001b[0;34m[\u001b[0m\u001b[0;34m'c'\u001b[0m\u001b[0;34m]\u001b[0m\u001b[0;34m,\u001b[0m\u001b[0mV\u001b[0m\u001b[0;34m)\u001b[0m\u001b[0;34m\u001b[0m\u001b[0;34m\u001b[0m\u001b[0m\n\u001b[0m\u001b[1;32m    239\u001b[0m             \u001b[0;31m#\u001b[0m\u001b[0;34m\u001b[0m\u001b[0;34m\u001b[0m\u001b[0m\n\u001b[1;32m    240\u001b[0m             \u001b[0;31m# Next we compute\u001b[0m\u001b[0;34m\u001b[0m\u001b[0;34m\u001b[0m\u001b[0m\n",
      "\u001b[0;32m/tmp/ipykernel_12421/801129352.py\u001b[0m in \u001b[0;36mElocal\u001b[0;34m(self, W, a, c, V)\u001b[0m\n\u001b[1;32m    158\u001b[0m         \u001b[0;32mfor\u001b[0m \u001b[0mi\u001b[0m \u001b[0;32min\u001b[0m \u001b[0mrange\u001b[0m\u001b[0;34m(\u001b[0m\u001b[0mL\u001b[0m\u001b[0;34m)\u001b[0m\u001b[0;34m:\u001b[0m\u001b[0;34m\u001b[0m\u001b[0;34m\u001b[0m\u001b[0m\n\u001b[1;32m    159\u001b[0m             \u001b[0mV\u001b[0m\u001b[0;34m[\u001b[0m\u001b[0mi\u001b[0m\u001b[0;34m]\u001b[0m \u001b[0;34m=\u001b[0m \u001b[0;34m-\u001b[0m\u001b[0mV\u001b[0m\u001b[0;34m[\u001b[0m\u001b[0mi\u001b[0m\u001b[0;34m]\u001b[0m\u001b[0;34m+\u001b[0m\u001b[0;36m1\u001b[0m\u001b[0;34m\u001b[0m\u001b[0;34m\u001b[0m\u001b[0m\n\u001b[0;32m--> 160\u001b[0;31m             \u001b[0mEBlocalPsi\u001b[0m \u001b[0;34m=\u001b[0m \u001b[0mEBlocalPsi\u001b[0m \u001b[0;34m-\u001b[0m \u001b[0mself\u001b[0m\u001b[0;34m.\u001b[0m\u001b[0mhamilt\u001b[0m\u001b[0;34m.\u001b[0m\u001b[0mh\u001b[0m\u001b[0;34m*\u001b[0m\u001b[0mnp\u001b[0m\u001b[0;34m.\u001b[0m\u001b[0mexp\u001b[0m\u001b[0;34m(\u001b[0m\u001b[0mself\u001b[0m\u001b[0;34m.\u001b[0m\u001b[0mLnRMBWavefunction\u001b[0m\u001b[0;34m(\u001b[0m\u001b[0mW\u001b[0m\u001b[0;34m,\u001b[0m\u001b[0ma\u001b[0m\u001b[0;34m,\u001b[0m\u001b[0mc\u001b[0m\u001b[0;34m,\u001b[0m\u001b[0mV\u001b[0m\u001b[0;34m)\u001b[0m\u001b[0;34m-\u001b[0m\u001b[0mLnPsi\u001b[0m\u001b[0;34m)\u001b[0m \u001b[0;31m#Compare flipped with unflipped (sigma_x applied)\u001b[0m\u001b[0;34m\u001b[0m\u001b[0;34m\u001b[0m\u001b[0m\n\u001b[0m\u001b[1;32m    161\u001b[0m             \u001b[0mV\u001b[0m\u001b[0;34m[\u001b[0m\u001b[0mi\u001b[0m\u001b[0;34m]\u001b[0m \u001b[0;34m=\u001b[0m \u001b[0;34m-\u001b[0m\u001b[0mV\u001b[0m\u001b[0;34m[\u001b[0m\u001b[0mi\u001b[0m\u001b[0;34m]\u001b[0m\u001b[0;34m+\u001b[0m\u001b[0;36m1\u001b[0m\u001b[0;34m\u001b[0m\u001b[0;34m\u001b[0m\u001b[0m\n\u001b[1;32m    162\u001b[0m \u001b[0;34m\u001b[0m\u001b[0m\n",
      "\u001b[0;32m/tmp/ipykernel_12421/801129352.py\u001b[0m in \u001b[0;36mLnRMBWavefunction\u001b[0;34m(self, W, a, c, V)\u001b[0m\n\u001b[1;32m     67\u001b[0m \u001b[0;34m\u001b[0m\u001b[0m\n\u001b[1;32m     68\u001b[0m         \u001b[0;31m# Difference between bits 0 and 1 and spins -1 and 1\u001b[0m\u001b[0;34m\u001b[0m\u001b[0;34m\u001b[0m\u001b[0m\n\u001b[0;32m---> 69\u001b[0;31m         \u001b[0mLnPrePreFactor\u001b[0m \u001b[0;34m=\u001b[0m \u001b[0mnp\u001b[0m\u001b[0;34m.\u001b[0m\u001b[0msum\u001b[0m\u001b[0;34m(\u001b[0m\u001b[0ma\u001b[0m\u001b[0;34m)\u001b[0m\u001b[0;34m/\u001b[0m\u001b[0;36m2\u001b[0m \u001b[0;34m+\u001b[0m \u001b[0mnp\u001b[0m\u001b[0;34m.\u001b[0m\u001b[0msum\u001b[0m\u001b[0;34m(\u001b[0m\u001b[0mc\u001b[0m\u001b[0;34m)\u001b[0m\u001b[0;34m/\u001b[0m\u001b[0;36m2\u001b[0m\u001b[0;34m+\u001b[0m\u001b[0mnp\u001b[0m\u001b[0;34m.\u001b[0m\u001b[0msum\u001b[0m\u001b[0;34m(\u001b[0m\u001b[0mW\u001b[0m\u001b[0;34m)\u001b[0m\u001b[0;34m/\u001b[0m\u001b[0;36m4\u001b[0m\u001b[0;34m\u001b[0m\u001b[0;34m\u001b[0m\u001b[0m\n\u001b[0m\u001b[1;32m     70\u001b[0m         \u001b[0mAngleFactor\u001b[0m \u001b[0;34m=\u001b[0m \u001b[0mnp\u001b[0m\u001b[0;34m.\u001b[0m\u001b[0mprod\u001b[0m\u001b[0;34m(\u001b[0m\u001b[0;36m1\u001b[0m\u001b[0;34m+\u001b[0m\u001b[0mnp\u001b[0m\u001b[0;34m.\u001b[0m\u001b[0mexp\u001b[0m\u001b[0;34m(\u001b[0m\u001b[0;34m-\u001b[0m\u001b[0mc\u001b[0m \u001b[0;34m-\u001b[0m \u001b[0mWsummed\u001b[0m\u001b[0;34m)\u001b[0m\u001b[0;34m)\u001b[0m\u001b[0;34m\u001b[0m\u001b[0;34m\u001b[0m\u001b[0m\n\u001b[1;32m     71\u001b[0m         \u001b[0mLnPsiRMB\u001b[0m \u001b[0;34m=\u001b[0m \u001b[0mLnPrePreFactor\u001b[0m \u001b[0;34m+\u001b[0m \u001b[0mLnPreFactor\u001b[0m \u001b[0;34m+\u001b[0m \u001b[0mnp\u001b[0m\u001b[0;34m.\u001b[0m\u001b[0mlog\u001b[0m\u001b[0;34m(\u001b[0m\u001b[0mAngleFactor\u001b[0m\u001b[0;34m)\u001b[0m\u001b[0;34m\u001b[0m\u001b[0;34m\u001b[0m\u001b[0m\n",
      "\u001b[0;32m<__array_function__ internals>\u001b[0m in \u001b[0;36msum\u001b[0;34m(*args, **kwargs)\u001b[0m\n",
      "\u001b[0;32m~/.pyenv/versions/3.10.0/envs/base/lib/python3.10/site-packages/numpy/core/fromnumeric.py\u001b[0m in \u001b[0;36msum\u001b[0;34m(a, axis, dtype, out, keepdims, initial, where)\u001b[0m\n\u001b[1;32m   2257\u001b[0m         \u001b[0;32mreturn\u001b[0m \u001b[0mres\u001b[0m\u001b[0;34m\u001b[0m\u001b[0;34m\u001b[0m\u001b[0m\n\u001b[1;32m   2258\u001b[0m \u001b[0;34m\u001b[0m\u001b[0m\n\u001b[0;32m-> 2259\u001b[0;31m     return _wrapreduction(a, np.add, 'sum', axis, dtype, out, keepdims=keepdims,\n\u001b[0m\u001b[1;32m   2260\u001b[0m                           initial=initial, where=where)\n\u001b[1;32m   2261\u001b[0m \u001b[0;34m\u001b[0m\u001b[0m\n",
      "\u001b[0;32m~/.pyenv/versions/3.10.0/envs/base/lib/python3.10/site-packages/numpy/core/fromnumeric.py\u001b[0m in \u001b[0;36m_wrapreduction\u001b[0;34m(obj, ufunc, method, axis, dtype, out, **kwargs)\u001b[0m\n\u001b[1;32m     67\u001b[0m \u001b[0;34m\u001b[0m\u001b[0m\n\u001b[1;32m     68\u001b[0m \u001b[0;34m\u001b[0m\u001b[0m\n\u001b[0;32m---> 69\u001b[0;31m \u001b[0;32mdef\u001b[0m \u001b[0m_wrapreduction\u001b[0m\u001b[0;34m(\u001b[0m\u001b[0mobj\u001b[0m\u001b[0;34m,\u001b[0m \u001b[0mufunc\u001b[0m\u001b[0;34m,\u001b[0m \u001b[0mmethod\u001b[0m\u001b[0;34m,\u001b[0m \u001b[0maxis\u001b[0m\u001b[0;34m,\u001b[0m \u001b[0mdtype\u001b[0m\u001b[0;34m,\u001b[0m \u001b[0mout\u001b[0m\u001b[0;34m,\u001b[0m \u001b[0;34m**\u001b[0m\u001b[0mkwargs\u001b[0m\u001b[0;34m)\u001b[0m\u001b[0;34m:\u001b[0m\u001b[0;34m\u001b[0m\u001b[0;34m\u001b[0m\u001b[0m\n\u001b[0m\u001b[1;32m     70\u001b[0m     passkwargs = {k: v for k, v in kwargs.items()\n\u001b[1;32m     71\u001b[0m                   if v is not np._NoValue}\n",
      "\u001b[0;31mKeyboardInterrupt\u001b[0m: "
     ]
    }
   ],
   "source": [
    "init_H = TFIM(h=1/2, g=1)\n",
    "target_H = TFIM(h=1, g=1)\n",
    "\n",
    "\n",
    "td_nqs_model = TD_NQS_RBM(init_H = init_H,\n",
    "                            Nv = 10,\n",
    "                            Nh = 40,\n",
    "                            init_mode=\"ground_state\",\n",
    "                            init_state_params={\"kContrastDiv\": 6000, \"lrate\": 0.4, \"epochs\": 52})\n",
    "\n",
    "td_nqs_model.evolute_quench(target_H=target_H,\n",
    "                            delta_t=0.05,\n",
    "                            end_of_time=2,\n",
    "                            time_lrate=0.4, \n",
    "                            kContrastDiv=6000)\n",
    "\n",
    "#\n",
    "# Displaying analytics\n",
    "#\n",
    "plot_time_dependent_exp_vals() #Plot simple <sigma_x > average vs. time!"
   ]
  }
 ],
 "metadata": {
  "interpreter": {
   "hash": "ac5fa55e59d7907f2234b868d4eba807892b77462284fb15ceb9b28ad8dae652"
  },
  "kernelspec": {
   "display_name": "Python 3.10.0 64-bit ('3.10.0')",
   "language": "python",
   "name": "python3"
  },
  "language_info": {
   "codemirror_mode": {
    "name": "ipython",
    "version": 3
   },
   "file_extension": ".py",
   "mimetype": "text/x-python",
   "name": "python",
   "nbconvert_exporter": "python",
   "pygments_lexer": "ipython3",
   "version": "3.10.0"
  },
  "orig_nbformat": 4
 },
 "nbformat": 4,
 "nbformat_minor": 2
}
