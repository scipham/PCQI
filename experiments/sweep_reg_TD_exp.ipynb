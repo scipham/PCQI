{
 "cells": [
  {
   "cell_type": "code",
   "execution_count": 11,
   "metadata": {},
   "outputs": [],
   "source": [
    "#--------Always include this heading in experiments\n",
    "from pickle import NEXT_BUFFER\n",
    "import sys, os\n",
    "from time import time\n",
    "sys.path.append(os.path.join(sys.path[0],'..'))\n",
    "\n",
    "from TFIM import *\n",
    "from NQS_RBM import *\n",
    "from TD_NQS_RBM import *\n",
    "from PLOTTING import *\n",
    "\n",
    "np.random.seed(12)\n",
    "\n",
    "EXPERIMENTS_PATH = sys.path[0]\n",
    "RESULTS_PATH = EXPERIMENTS_PATH + \"/data/\" \n",
    "#-------------------------------------------------------"
   ]
  },
  {
   "cell_type": "code",
   "execution_count": 12,
   "metadata": {},
   "outputs": [],
   "source": [
    "init_H = TFIM(h=0.5, g=0.5)\n",
    "target_H = TFIM(h=0.6, g=0.6)   \n",
    "\n",
    "N_V = 10\n",
    "N_H = 40 \n",
    "\n",
    "delta_t = 0.005\n",
    "end_of_time = 0.05"
   ]
  },
  {
   "cell_type": "code",
   "execution_count": 4,
   "metadata": {},
   "outputs": [
    {
     "data": {
      "text/plain": [
       "5.0"
      ]
     },
     "execution_count": 4,
     "metadata": {},
     "output_type": "execute_result"
    }
   ],
   "source": []
  },
  {
   "cell_type": "code",
   "execution_count": 13,
   "metadata": {},
   "outputs": [
    {
     "name": "stdout",
     "output_type": "stream",
     "text": [
      "            Neural Quantum State of the transverse field Ising model:\n",
      "            Ising model parameters J, h: 1.000000, 0.500000\n",
      "            Number of visible spins: 10\n",
      "            Number of hidden spins: 40\n",
      "            \n",
      "Magnetization of Initial state:  1.0\n",
      "Succesfully imported precomputed ground state!\n",
      "Starting a quench...\n",
      "[['X0', 'X1', 'X2', 'X3', 'X4', 'X5', 'X6', 'X7', 'X8', 'X9'], ['Z0', 'Z1', 'Z2', 'Z3', 'Z4', 'Z5', 'Z6', 'Z7', 'Z8', 'Z9']]\n"
     ]
    },
    {
     "name": "stderr",
     "output_type": "stream",
     "text": [
      "  0%|          | 0/10 [00:00<?, ?it/s]"
     ]
    },
    {
     "name": "stdout",
     "output_type": "stream",
     "text": [
      "Percentage Rejections in Burn-in: 96.98 %\n",
      "Gradient absval-squared: a: 0.0002, c: 0.0000, W: 0.0000. average weight update size: -0.0001420781059489358j\n"
     ]
    },
    {
     "name": "stderr",
     "output_type": "stream",
     "text": [
      "  0%|          | 0/10 [00:13<?, ?it/s]\n"
     ]
    },
    {
     "ename": "MemoryError",
     "evalue": "Unable to allocate 7.24 GiB for an array with shape (4800, 450, 450) and data type float64",
     "output_type": "error",
     "traceback": [
      "\u001b[1;31m---------------------------------------------------------------------------\u001b[0m",
      "\u001b[1;31mMemoryError\u001b[0m                               Traceback (most recent call last)",
      "\u001b[1;32mc:\\Users\\PimVeefkind\\Documents\\PCQI\\experiments\\sweep_reg_TD_exp.ipynb Cell 4'\u001b[0m in \u001b[0;36m<cell line: 8>\u001b[1;34m()\u001b[0m\n\u001b[0;32m     <a href='vscode-notebook-cell:/c%3A/Users/PimVeefkind/Documents/PCQI/experiments/sweep_reg_TD_exp.ipynb#ch0000002?line=9'>10</a>\u001b[0m evol_params \u001b[39m=\u001b[39m {\u001b[39m'\u001b[39m\u001b[39mtarget_H\u001b[39m\u001b[39m'\u001b[39m: target_H,\n\u001b[0;32m     <a href='vscode-notebook-cell:/c%3A/Users/PimVeefkind/Documents/PCQI/experiments/sweep_reg_TD_exp.ipynb#ch0000002?line=10'>11</a>\u001b[0m         \u001b[39m'\u001b[39m\u001b[39mdelta_t\u001b[39m\u001b[39m'\u001b[39m: delta_t,\n\u001b[0;32m     <a href='vscode-notebook-cell:/c%3A/Users/PimVeefkind/Documents/PCQI/experiments/sweep_reg_TD_exp.ipynb#ch0000002?line=11'>12</a>\u001b[0m         \u001b[39m'\u001b[39m\u001b[39mend_of_time\u001b[39m\u001b[39m'\u001b[39m: end_of_time,\n\u001b[1;32m   (...)\u001b[0m\n\u001b[0;32m     <a href='vscode-notebook-cell:/c%3A/Users/PimVeefkind/Documents/PCQI/experiments/sweep_reg_TD_exp.ipynb#ch0000002?line=14'>15</a>\u001b[0m         \u001b[39m'\u001b[39m\u001b[39mreg_strength\u001b[39m\u001b[39m'\u001b[39m:reg,\n\u001b[0;32m     <a href='vscode-notebook-cell:/c%3A/Users/PimVeefkind/Documents/PCQI/experiments/sweep_reg_TD_exp.ipynb#ch0000002?line=15'>16</a>\u001b[0m         \u001b[39m'\u001b[39m\u001b[39mval_fraction\u001b[39m\u001b[39m'\u001b[39m:\u001b[39m0.2\u001b[39m}\n\u001b[0;32m     <a href='vscode-notebook-cell:/c%3A/Users/PimVeefkind/Documents/PCQI/experiments/sweep_reg_TD_exp.ipynb#ch0000002?line=17'>18</a>\u001b[0m td_nqs_model \u001b[39m=\u001b[39m TD_NQS_RBM(init_H \u001b[39m=\u001b[39m init_H,\n\u001b[0;32m     <a href='vscode-notebook-cell:/c%3A/Users/PimVeefkind/Documents/PCQI/experiments/sweep_reg_TD_exp.ipynb#ch0000002?line=18'>19</a>\u001b[0m                         Nv \u001b[39m=\u001b[39m N_V,\n\u001b[0;32m     <a href='vscode-notebook-cell:/c%3A/Users/PimVeefkind/Documents/PCQI/experiments/sweep_reg_TD_exp.ipynb#ch0000002?line=19'>20</a>\u001b[0m                         Nh \u001b[39m=\u001b[39m N_H,\n\u001b[0;32m     <a href='vscode-notebook-cell:/c%3A/Users/PimVeefkind/Documents/PCQI/experiments/sweep_reg_TD_exp.ipynb#ch0000002?line=20'>21</a>\u001b[0m                         init_mode\u001b[39m=\u001b[39m\u001b[39m\"\u001b[39m\u001b[39mground_state\u001b[39m\u001b[39m\"\u001b[39m,\n\u001b[0;32m     <a href='vscode-notebook-cell:/c%3A/Users/PimVeefkind/Documents/PCQI/experiments/sweep_reg_TD_exp.ipynb#ch0000002?line=21'>22</a>\u001b[0m                         init_state_params\u001b[39m=\u001b[39minit_state_params)\n\u001b[1;32m---> <a href='vscode-notebook-cell:/c%3A/Users/PimVeefkind/Documents/PCQI/experiments/sweep_reg_TD_exp.ipynb#ch0000002?line=23'>24</a>\u001b[0m time_evol_output \u001b[39m=\u001b[39m td_nqs_model\u001b[39m.\u001b[39mevolute_quench(\u001b[39m*\u001b[39m\u001b[39m*\u001b[39mevol_params, required_paulis \u001b[39m=\u001b[39m [[\u001b[39mf\u001b[39m\u001b[39m\"\u001b[39m\u001b[39mX\u001b[39m\u001b[39m{\u001b[39;00ms\u001b[39m}\u001b[39;00m\u001b[39m\"\u001b[39m \u001b[39mfor\u001b[39;00m s \u001b[39min\u001b[39;00m \u001b[39mrange\u001b[39m(N_V)],[\u001b[39mf\u001b[39m\u001b[39m\"\u001b[39m\u001b[39mZ\u001b[39m\u001b[39m{\u001b[39;00ms\u001b[39m}\u001b[39;00m\u001b[39m\"\u001b[39m \u001b[39mfor\u001b[39;00m s \u001b[39min\u001b[39;00m \u001b[39mrange\u001b[39m(N_V)]])\n\u001b[0;32m     <a href='vscode-notebook-cell:/c%3A/Users/PimVeefkind/Documents/PCQI/experiments/sweep_reg_TD_exp.ipynb#ch0000002?line=25'>26</a>\u001b[0m x_over_time \u001b[39m=\u001b[39m []\n\u001b[0;32m     <a href='vscode-notebook-cell:/c%3A/Users/PimVeefkind/Documents/PCQI/experiments/sweep_reg_TD_exp.ipynb#ch0000002?line=27'>28</a>\u001b[0m inter \u001b[39m=\u001b[39m time_evol_output[\u001b[39m4\u001b[39m]\n",
      "File \u001b[1;32mc:\\Users\\PimVeefkind\\Documents\\PCQI\\experiments\\..\\TD_NQS_RBM.py:139\u001b[0m, in \u001b[0;36mTD_NQS_RBM.evolute_quench\u001b[1;34m(self, target_H, delta_t, end_of_time, kContrastDiv, reg_mode, reg_strength, val_fraction, required_paulis, store_result)\u001b[0m\n\u001b[0;32m    <a href='file:///c%3A/Users/PimVeefkind/Documents/PCQI/experiments/../TD_NQS_RBM.py?line=136'>137</a>\u001b[0m \u001b[39m#Evaluate all expectations at once from (training) ensemble:\u001b[39;00m\n\u001b[0;32m    <a href='file:///c%3A/Users/PimVeefkind/Documents/PCQI/experiments/../TD_NQS_RBM.py?line=137'>138</a>\u001b[0m tic \u001b[39m=\u001b[39m timeit\u001b[39m.\u001b[39mdefault_timer()\n\u001b[1;32m--> <a href='file:///c%3A/Users/PimVeefkind/Documents/PCQI/experiments/../TD_NQS_RBM.py?line=138'>139</a>\u001b[0m expectations, pauliExpVals \u001b[39m=\u001b[39m \u001b[39mself\u001b[39;49m\u001b[39m.\u001b[39;49mevaluate_exp_vals_Vect(\u001b[39mself\u001b[39;49m\u001b[39m.\u001b[39;49mweights, Vensemble_train, paulis\u001b[39m=\u001b[39;49mrequired_paulis)\n\u001b[0;32m    <a href='file:///c%3A/Users/PimVeefkind/Documents/PCQI/experiments/../TD_NQS_RBM.py?line=139'>140</a>\u001b[0m toc \u001b[39m=\u001b[39m timeit\u001b[39m.\u001b[39mdefault_timer()\n\u001b[0;32m    <a href='file:///c%3A/Users/PimVeefkind/Documents/PCQI/experiments/../TD_NQS_RBM.py?line=140'>141</a>\u001b[0m \u001b[39mprint\u001b[39m(\u001b[39mf\u001b[39m\u001b[39m\"\u001b[39m\u001b[39mVectorized evaluation took \u001b[39m\u001b[39m{\u001b[39;00mtoc\u001b[39m-\u001b[39mtic\u001b[39m}\u001b[39;00m\u001b[39m seconds\u001b[39m\u001b[39m\"\u001b[39m)\n",
      "File \u001b[1;32mc:\\Users\\PimVeefkind\\Documents\\PCQI\\experiments\\..\\NQS_RBM.py:416\u001b[0m, in \u001b[0;36mNQS_RBM.evaluate_exp_vals_Vect\u001b[1;34m(self, o_weights, Vensemble, paulis)\u001b[0m\n\u001b[0;32m    <a href='file:///c%3A/Users/PimVeefkind/Documents/PCQI/experiments/../NQS_RBM.py?line=411'>412</a>\u001b[0m derivs \u001b[39m=\u001b[39m np\u001b[39m.\u001b[39mconcatenate((Vensemble,np\u001b[39m.\u001b[39mreal(sigmoid(o_weights[\u001b[39m'\u001b[39m\u001b[39mc\u001b[39m\u001b[39m'\u001b[39m][np\u001b[39m.\u001b[39mnewaxis, :] \u001b[39m+\u001b[39m np\u001b[39m.\u001b[39meinsum(\u001b[39m'\u001b[39m\u001b[39mij,kj->ki\u001b[39m\u001b[39m'\u001b[39m,o_weights[\u001b[39m'\u001b[39m\u001b[39mW\u001b[39m\u001b[39m'\u001b[39m],Vensemble))),np\u001b[39m.\u001b[39mreal(np\u001b[39m.\u001b[39meinsum(\u001b[39m'\u001b[39m\u001b[39mki,kj->kij\u001b[39m\u001b[39m'\u001b[39m,sigmoid(o_weights[\u001b[39m'\u001b[39m\u001b[39mc\u001b[39m\u001b[39m'\u001b[39m][np\u001b[39m.\u001b[39mnewaxis, :] \u001b[39m+\u001b[39m np\u001b[39m.\u001b[39meinsum(\u001b[39m'\u001b[39m\u001b[39mij,kj->ki\u001b[39m\u001b[39m'\u001b[39m,o_weights[\u001b[39m'\u001b[39m\u001b[39mW\u001b[39m\u001b[39m'\u001b[39m],Vensemble)),Vensemble))\u001b[39m.\u001b[39mreshape(LenEnsemb,L\u001b[39m*\u001b[39mH)), axis\u001b[39m=\u001b[39m\u001b[39m1\u001b[39m)\n\u001b[0;32m    <a href='file:///c%3A/Users/PimVeefkind/Documents/PCQI/experiments/../NQS_RBM.py?line=412'>413</a>\u001b[0m \u001b[39m#\u001b[39;00m\n\u001b[0;32m    <a href='file:///c%3A/Users/PimVeefkind/Documents/PCQI/experiments/../NQS_RBM.py?line=413'>414</a>\u001b[0m \u001b[39m# Matrix of conj.derivs \\times derivs\u001b[39;00m\n\u001b[0;32m    <a href='file:///c%3A/Users/PimVeefkind/Documents/PCQI/experiments/../NQS_RBM.py?line=414'>415</a>\u001b[0m \u001b[39m#\u001b[39;00m\n\u001b[1;32m--> <a href='file:///c%3A/Users/PimVeefkind/Documents/PCQI/experiments/../NQS_RBM.py?line=415'>416</a>\u001b[0m moment2 \u001b[39m=\u001b[39m np\u001b[39m.\u001b[39;49meinsum(\u001b[39m'\u001b[39;49m\u001b[39mki,kj->kij\u001b[39;49m\u001b[39m'\u001b[39;49m,np\u001b[39m.\u001b[39;49mconj(derivs),derivs)\n\u001b[0;32m    <a href='file:///c%3A/Users/PimVeefkind/Documents/PCQI/experiments/../NQS_RBM.py?line=416'>417</a>\u001b[0m \u001b[39m#\u001b[39;00m\n\u001b[0;32m    <a href='file:///c%3A/Users/PimVeefkind/Documents/PCQI/experiments/../NQS_RBM.py?line=417'>418</a>\u001b[0m \u001b[39m# Computing ensemble averages (uniform distrib. over all sampled configs)\u001b[39;00m\n\u001b[0;32m    <a href='file:///c%3A/Users/PimVeefkind/Documents/PCQI/experiments/../NQS_RBM.py?line=418'>419</a>\u001b[0m \u001b[39m#\u001b[39;00m\n\u001b[0;32m    <a href='file:///c%3A/Users/PimVeefkind/Documents/PCQI/experiments/../NQS_RBM.py?line=419'>420</a>\u001b[0m ElocalExpVal \u001b[39m=\u001b[39m np\u001b[39m.\u001b[39msum(ElocalPsi, axis\u001b[39m=\u001b[39m\u001b[39m0\u001b[39m)\u001b[39m/\u001b[39mLenEnsemb\n",
      "File \u001b[1;32m<__array_function__ internals>:5\u001b[0m, in \u001b[0;36meinsum\u001b[1;34m(*args, **kwargs)\u001b[0m\n",
      "File \u001b[1;32mc:\\Users\\PimVeefkind\\miniconda3\\envs\\pcqi\\lib\\site-packages\\numpy\\core\\einsumfunc.py:1361\u001b[0m, in \u001b[0;36meinsum\u001b[1;34m(out, optimize, *operands, **kwargs)\u001b[0m\n\u001b[0;32m   <a href='file:///c%3A/Users/PimVeefkind/miniconda3/envs/pcqi/lib/site-packages/numpy/core/einsumfunc.py?line=1358'>1359</a>\u001b[0m     \u001b[39mif\u001b[39;00m specified_out:\n\u001b[0;32m   <a href='file:///c%3A/Users/PimVeefkind/miniconda3/envs/pcqi/lib/site-packages/numpy/core/einsumfunc.py?line=1359'>1360</a>\u001b[0m         kwargs[\u001b[39m'\u001b[39m\u001b[39mout\u001b[39m\u001b[39m'\u001b[39m] \u001b[39m=\u001b[39m out\n\u001b[1;32m-> <a href='file:///c%3A/Users/PimVeefkind/miniconda3/envs/pcqi/lib/site-packages/numpy/core/einsumfunc.py?line=1360'>1361</a>\u001b[0m     \u001b[39mreturn\u001b[39;00m c_einsum(\u001b[39m*\u001b[39moperands, \u001b[39m*\u001b[39m\u001b[39m*\u001b[39mkwargs)\n\u001b[0;32m   <a href='file:///c%3A/Users/PimVeefkind/miniconda3/envs/pcqi/lib/site-packages/numpy/core/einsumfunc.py?line=1362'>1363</a>\u001b[0m \u001b[39m# Check the kwargs to avoid a more cryptic error later, without having to\u001b[39;00m\n\u001b[0;32m   <a href='file:///c%3A/Users/PimVeefkind/miniconda3/envs/pcqi/lib/site-packages/numpy/core/einsumfunc.py?line=1363'>1364</a>\u001b[0m \u001b[39m# repeat default values here\u001b[39;00m\n\u001b[0;32m   <a href='file:///c%3A/Users/PimVeefkind/miniconda3/envs/pcqi/lib/site-packages/numpy/core/einsumfunc.py?line=1364'>1365</a>\u001b[0m valid_einsum_kwargs \u001b[39m=\u001b[39m [\u001b[39m'\u001b[39m\u001b[39mdtype\u001b[39m\u001b[39m'\u001b[39m, \u001b[39m'\u001b[39m\u001b[39morder\u001b[39m\u001b[39m'\u001b[39m, \u001b[39m'\u001b[39m\u001b[39mcasting\u001b[39m\u001b[39m'\u001b[39m]\n",
      "\u001b[1;31mMemoryError\u001b[0m: Unable to allocate 7.24 GiB for an array with shape (4800, 450, 450) and data type float64"
     ]
    }
   ],
   "source": [
    "regs = [1e-4]\n",
    "data = np.zeros((int(end_of_time//delta_t),len(regs)), dtype = complex)\n",
    "\n",
    "init_state_params = {\"kContrastDiv\": 6000, \n",
    "                     \"lrate\": 0.1, \n",
    "                     \"epochs\": 70}\n",
    "\n",
    "for i, reg in enumerate(regs):\n",
    "\n",
    "    evol_params = {'target_H': target_H,\n",
    "            'delta_t': delta_t,\n",
    "            'end_of_time': end_of_time,\n",
    "            'kContrastDiv': 6000,\n",
    "            'reg_mode':'diag_shift',\n",
    "            'reg_strength':reg,\n",
    "            'val_fraction':0.2}\n",
    "\n",
    "    td_nqs_model = TD_NQS_RBM(init_H = init_H,\n",
    "                            Nv = N_V,\n",
    "                            Nh = N_H,\n",
    "                            init_mode=\"ground_state\",\n",
    "                            init_state_params=init_state_params)\n",
    "\n",
    "    time_evol_output = td_nqs_model.evolute_quench(**evol_params, required_paulis = [[f\"X{s}\" for s in range(N_V)],[f\"Z{s}\" for s in range(N_V)]])\n",
    "\n",
    "    x_over_time = []\n",
    "\n",
    "    inter = time_evol_output[4]\n",
    "    \n",
    "    for t in range(int(end_of_time//delta_t)):\n",
    "        all_x_at_t = np.array(inter[1][t][0], dtype=complex)\n",
    "        average_x_at_t = np.mean(all_x_at_t)\n",
    "        x_over_time.append(average_x_at_t)\n",
    "\n",
    "    data[:,i] = x_over_time\n",
    "\n",
    "np.savetxt('reg2.txt', data)\n",
    "#plot_reg_sweep(timesteps, data, regs)\n",
    "\n",
    "\n",
    "\n",
    "    "
   ]
  },
  {
   "cell_type": "code",
   "execution_count": 4,
   "metadata": {},
   "outputs": [],
   "source": [
    "inter = time_evol_output[4]\n",
    "x_over_time = []\n",
    "    \n",
    "for t in range(int(end_of_time//delta_t)):\n",
    "        all_x_at_t = np.array(inter[1][t][0], dtype=complex)\n",
    "        average_x_at_t = np.mean(all_x_at_t)\n",
    "        x_over_time.append(average_x_at_t)\n",
    "\n",
    "data[:,i] = x_over_time\n",
    "\n",
    "np.savetxt('reg.txt', data)"
   ]
  },
  {
   "cell_type": "code",
   "execution_count": 31,
   "metadata": {},
   "outputs": [
    {
     "data": {
      "text/plain": [
       "array([[0.24047193+0.00000000e+00j],\n",
       "       [0.26023042+8.33117029e-05j],\n",
       "       [0.25852534+1.90118701e-04j],\n",
       "       [0.25412594+2.18599267e-04j],\n",
       "       [0.26325378+3.18598762e-04j],\n",
       "       [0.25813864+3.67629065e-04j],\n",
       "       [0.26356673+4.41807542e-04j],\n",
       "       [0.26387082+4.90671655e-04j],\n",
       "       [0.2738305 +6.22312256e-04j],\n",
       "       [0.26743923+6.10996635e-04j],\n",
       "       [0.26800337+5.74536653e-04j],\n",
       "       [0.2736401 +7.91406236e-04j]])"
      ]
     },
     "execution_count": 31,
     "metadata": {},
     "output_type": "execute_result"
    }
   ],
   "source": [
    "data"
   ]
  },
  {
   "cell_type": "code",
   "execution_count": 5,
   "metadata": {},
   "outputs": [
    {
     "name": "stderr",
     "output_type": "stream",
     "text": [
      "c:\\Users\\PimVeefkind\\miniconda3\\envs\\pcqi\\lib\\site-packages\\numpy\\core\\_asarray.py:102: ComplexWarning: Casting complex values to real discards the imaginary part\n",
      "  return array(a, dtype, copy=False, order=order)\n"
     ]
    },
    {
     "data": {
      "text/plain": [
       "[<matplotlib.lines.Line2D at 0x2d0c1dde2b0>]"
      ]
     },
     "execution_count": 5,
     "metadata": {},
     "output_type": "execute_result"
    },
    {
     "data": {
      "image/png": "[encoded data removed]",
      "text/plain": [
       "<Figure size 432x288 with 1 Axes>"
      ]
     },
     "metadata": {
      "needs_background": "light"
     },
     "output_type": "display_data"
    }
   ],
   "source": [
    "plt.plot(np.arange(0,end_of_time,delta_t)[:-1],data)"
   ]
  }
 ],
 "metadata": {
  "interpreter": {
   "hash": "9e39ce0b3adcd29fc33e49a59d3b6745187439a2af07c6a41ff029e28af5e3cc"
  },
  "kernelspec": {
   "display_name": "Python 3.9.12 ('pcqi')",
   "language": "python",
   "name": "python3"
  },
  "language_info": {
   "codemirror_mode": {
    "name": "ipython",
    "version": 3
   },
   "file_extension": ".py",
   "mimetype": "text/x-python",
   "name": "python",
   "nbconvert_exporter": "python",
   "pygments_lexer": "ipython3",
   "version": "3.9.12"
  },
  "orig_nbformat": 4
 },
 "nbformat": 4,
 "nbformat_minor": 2
}
